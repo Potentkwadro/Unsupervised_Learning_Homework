{
 "cells": [
  {
   "cell_type": "code",
   "execution_count": 1,
   "id": "c8f7b8fd",
   "metadata": {},
   "outputs": [],
   "source": [
    " # data science imports\n",
    "import pandas as pd\n",
    "import numpy as np\n",
    "import matplotlib.pyplot as plt\n",
    "import matplotlib.cm as cm\n",
    "import seaborn as sns\n",
    "\n",
    "# data processing\n",
    "from sklearn.preprocessing import StandardScaler\n",
    "from scipy.cluster.hierarchy import dendrogram, linkage\n",
    "\n",
    "# unsupervised algorithms\n",
    "from sklearn.manifold import TSNE\n",
    "from sklearn.decomposition import PCA\n",
    "from sklearn.cluster import KMeans\n",
    "from sklearn.cluster import DBSCAN\n",
    "from sklearn.cluster import AgglomerativeClustering\n",
    "\n",
    "# metrics\n",
    "from sklearn.metrics import silhouette_samples, silhouette_score"
   ]
  },
  {
   "cell_type": "code",
   "execution_count": null,
   "id": "8f74ee38",
   "metadata": {},
   "outputs": [],
   "source": []
  },
  {
   "cell_type": "code",
   "execution_count": 2,
   "id": "f6580276",
   "metadata": {},
   "outputs": [
    {
     "data": {
      "text/html": [
       "<div>\n",
       "<style scoped>\n",
       "    .dataframe tbody tr th:only-of-type {\n",
       "        vertical-align: middle;\n",
       "    }\n",
       "\n",
       "    .dataframe tbody tr th {\n",
       "        vertical-align: top;\n",
       "    }\n",
       "\n",
       "    .dataframe thead th {\n",
       "        text-align: right;\n",
       "    }\n",
       "</style>\n",
       "<table border=\"1\" class=\"dataframe\">\n",
       "  <thead>\n",
       "    <tr style=\"text-align: right;\">\n",
       "      <th></th>\n",
       "      <th>Unnamed: 0</th>\n",
       "      <th>CoinName</th>\n",
       "      <th>Algorithm</th>\n",
       "      <th>IsTrading</th>\n",
       "      <th>ProofType</th>\n",
       "      <th>TotalCoinsMined</th>\n",
       "      <th>TotalCoinSupply</th>\n",
       "    </tr>\n",
       "  </thead>\n",
       "  <tbody>\n",
       "    <tr>\n",
       "      <th>0</th>\n",
       "      <td>42</td>\n",
       "      <td>42 Coin</td>\n",
       "      <td>Scrypt</td>\n",
       "      <td>True</td>\n",
       "      <td>PoW/PoS</td>\n",
       "      <td>4.199995e+01</td>\n",
       "      <td>42</td>\n",
       "    </tr>\n",
       "    <tr>\n",
       "      <th>1</th>\n",
       "      <td>365</td>\n",
       "      <td>365Coin</td>\n",
       "      <td>X11</td>\n",
       "      <td>True</td>\n",
       "      <td>PoW/PoS</td>\n",
       "      <td>NaN</td>\n",
       "      <td>2300000000</td>\n",
       "    </tr>\n",
       "    <tr>\n",
       "      <th>2</th>\n",
       "      <td>404</td>\n",
       "      <td>404Coin</td>\n",
       "      <td>Scrypt</td>\n",
       "      <td>True</td>\n",
       "      <td>PoW/PoS</td>\n",
       "      <td>1.055185e+09</td>\n",
       "      <td>532000000</td>\n",
       "    </tr>\n",
       "    <tr>\n",
       "      <th>3</th>\n",
       "      <td>611</td>\n",
       "      <td>SixEleven</td>\n",
       "      <td>SHA-256</td>\n",
       "      <td>True</td>\n",
       "      <td>PoW</td>\n",
       "      <td>NaN</td>\n",
       "      <td>611000</td>\n",
       "    </tr>\n",
       "    <tr>\n",
       "      <th>4</th>\n",
       "      <td>808</td>\n",
       "      <td>808</td>\n",
       "      <td>SHA-256</td>\n",
       "      <td>True</td>\n",
       "      <td>PoW/PoS</td>\n",
       "      <td>0.000000e+00</td>\n",
       "      <td>0</td>\n",
       "    </tr>\n",
       "  </tbody>\n",
       "</table>\n",
       "</div>"
      ],
      "text/plain": [
       "  Unnamed: 0   CoinName Algorithm  IsTrading ProofType  TotalCoinsMined  \\\n",
       "0         42    42 Coin    Scrypt       True   PoW/PoS     4.199995e+01   \n",
       "1        365    365Coin       X11       True   PoW/PoS              NaN   \n",
       "2        404    404Coin    Scrypt       True   PoW/PoS     1.055185e+09   \n",
       "3        611  SixEleven   SHA-256       True       PoW              NaN   \n",
       "4        808        808   SHA-256       True   PoW/PoS     0.000000e+00   \n",
       "\n",
       "  TotalCoinSupply  \n",
       "0              42  \n",
       "1      2300000000  \n",
       "2       532000000  \n",
       "3          611000  \n",
       "4               0  "
      ]
     },
     "execution_count": 2,
     "metadata": {},
     "output_type": "execute_result"
    }
   ],
   "source": [
    "file = 'crypto_data.csv'\n",
    "df = pd.read_csv(file)\n",
    "df.head()"
   ]
  },
  {
   "cell_type": "code",
   "execution_count": null,
   "id": "436cdf5c",
   "metadata": {},
   "outputs": [],
   "source": []
  },
  {
   "cell_type": "code",
   "execution_count": 3,
   "id": "c49a64c9",
   "metadata": {},
   "outputs": [
    {
     "name": "stdout",
     "output_type": "stream",
     "text": [
      "<class 'pandas.core.frame.DataFrame'>\n",
      "RangeIndex: 1252 entries, 0 to 1251\n",
      "Data columns (total 7 columns):\n",
      " #   Column           Non-Null Count  Dtype  \n",
      "---  ------           --------------  -----  \n",
      " 0   Unnamed: 0       1252 non-null   object \n",
      " 1   CoinName         1252 non-null   object \n",
      " 2   Algorithm        1252 non-null   object \n",
      " 3   IsTrading        1252 non-null   bool   \n",
      " 4   ProofType        1252 non-null   object \n",
      " 5   TotalCoinsMined  744 non-null    float64\n",
      " 6   TotalCoinSupply  1252 non-null   object \n",
      "dtypes: bool(1), float64(1), object(5)\n",
      "memory usage: 60.0+ KB\n"
     ]
    }
   ],
   "source": [
    "df.info()"
   ]
  },
  {
   "cell_type": "code",
   "execution_count": null,
   "id": "cbd218b4",
   "metadata": {},
   "outputs": [],
   "source": []
  },
  {
   "cell_type": "code",
   "execution_count": 4,
   "id": "aa8f45db",
   "metadata": {},
   "outputs": [
    {
     "data": {
      "text/plain": [
       "True     1144\n",
       "False     108\n",
       "Name: IsTrading, dtype: int64"
      ]
     },
     "execution_count": 4,
     "metadata": {},
     "output_type": "execute_result"
    }
   ],
   "source": [
    "df.IsTrading.value_counts()"
   ]
  },
  {
   "cell_type": "code",
   "execution_count": null,
   "id": "844d55e5",
   "metadata": {},
   "outputs": [],
   "source": []
  },
  {
   "cell_type": "code",
   "execution_count": 5,
   "id": "f0e7cfe8",
   "metadata": {},
   "outputs": [
    {
     "name": "stdout",
     "output_type": "stream",
     "text": [
      "<class 'pandas.core.frame.DataFrame'>\n",
      "RangeIndex: 1144 entries, 0 to 1143\n",
      "Data columns (total 7 columns):\n",
      " #   Column           Non-Null Count  Dtype  \n",
      "---  ------           --------------  -----  \n",
      " 0   Unnamed: 0       1144 non-null   object \n",
      " 1   CoinName         1144 non-null   object \n",
      " 2   Algorithm        1144 non-null   object \n",
      " 3   IsTrading        1144 non-null   bool   \n",
      " 4   ProofType        1144 non-null   object \n",
      " 5   TotalCoinsMined  685 non-null    float64\n",
      " 6   TotalCoinSupply  1144 non-null   object \n",
      "dtypes: bool(1), float64(1), object(5)\n",
      "memory usage: 54.9+ KB\n"
     ]
    }
   ],
   "source": [
    "df_sub = df.loc[df.IsTrading].reset_index(drop=True)\n",
    "df_sub.info()"
   ]
  },
  {
   "cell_type": "code",
   "execution_count": null,
   "id": "0e104eef",
   "metadata": {},
   "outputs": [],
   "source": []
  },
  {
   "cell_type": "code",
   "execution_count": 6,
   "id": "e16ee677",
   "metadata": {},
   "outputs": [
    {
     "data": {
      "text/plain": [
       "459"
      ]
     },
     "execution_count": 6,
     "metadata": {},
     "output_type": "execute_result"
    }
   ],
   "source": [
    "1144 - 685"
   ]
  },
  {
   "cell_type": "code",
   "execution_count": null,
   "id": "19786f30",
   "metadata": {},
   "outputs": [],
   "source": []
  },
  {
   "cell_type": "code",
   "execution_count": 7,
   "id": "ec5858e4",
   "metadata": {},
   "outputs": [
    {
     "name": "stdout",
     "output_type": "stream",
     "text": [
      "<class 'pandas.core.frame.DataFrame'>\n",
      "RangeIndex: 685 entries, 0 to 684\n",
      "Data columns (total 7 columns):\n",
      " #   Column           Non-Null Count  Dtype  \n",
      "---  ------           --------------  -----  \n",
      " 0   Unnamed: 0       685 non-null    object \n",
      " 1   CoinName         685 non-null    object \n",
      " 2   Algorithm        685 non-null    object \n",
      " 3   IsTrading        685 non-null    bool   \n",
      " 4   ProofType        685 non-null    object \n",
      " 5   TotalCoinsMined  685 non-null    float64\n",
      " 6   TotalCoinSupply  685 non-null    object \n",
      "dtypes: bool(1), float64(1), object(5)\n",
      "memory usage: 32.9+ KB\n"
     ]
    }
   ],
   "source": [
    "df_sub = df_sub.dropna(how=\"any\").reset_index(drop=True)\n",
    "df_sub.info()"
   ]
  },
  {
   "cell_type": "code",
   "execution_count": null,
   "id": "eb02282f",
   "metadata": {},
   "outputs": [],
   "source": []
  },
  {
   "cell_type": "code",
   "execution_count": 8,
   "id": "172d4833",
   "metadata": {},
   "outputs": [
    {
     "name": "stdout",
     "output_type": "stream",
     "text": [
      "<class 'pandas.core.frame.DataFrame'>\n",
      "RangeIndex: 532 entries, 0 to 531\n",
      "Data columns (total 8 columns):\n",
      " #   Column           Non-Null Count  Dtype  \n",
      "---  ------           --------------  -----  \n",
      " 0   index            532 non-null    int64  \n",
      " 1   Unnamed: 0       532 non-null    object \n",
      " 2   CoinName         532 non-null    object \n",
      " 3   Algorithm        532 non-null    object \n",
      " 4   IsTrading        532 non-null    bool   \n",
      " 5   ProofType        532 non-null    object \n",
      " 6   TotalCoinsMined  532 non-null    float64\n",
      " 7   TotalCoinSupply  532 non-null    object \n",
      "dtypes: bool(1), float64(1), int64(1), object(5)\n",
      "memory usage: 29.7+ KB\n"
     ]
    }
   ],
   "source": [
    "mask = df_sub.TotalCoinsMined > 0 \n",
    "df_sub = df_sub.loc[mask].reset_index()\n",
    "df_sub.info()"
   ]
  },
  {
   "cell_type": "code",
   "execution_count": null,
   "id": "284e41a6",
   "metadata": {},
   "outputs": [],
   "source": []
  },
  {
   "cell_type": "code",
   "execution_count": 9,
   "id": "710bb321",
   "metadata": {},
   "outputs": [
    {
     "data": {
      "text/html": [
       "<div>\n",
       "<style scoped>\n",
       "    .dataframe tbody tr th:only-of-type {\n",
       "        vertical-align: middle;\n",
       "    }\n",
       "\n",
       "    .dataframe tbody tr th {\n",
       "        vertical-align: top;\n",
       "    }\n",
       "\n",
       "    .dataframe thead th {\n",
       "        text-align: right;\n",
       "    }\n",
       "</style>\n",
       "<table border=\"1\" class=\"dataframe\">\n",
       "  <thead>\n",
       "    <tr style=\"text-align: right;\">\n",
       "      <th></th>\n",
       "      <th>index</th>\n",
       "      <th>Algorithm</th>\n",
       "      <th>IsTrading</th>\n",
       "      <th>ProofType</th>\n",
       "      <th>TotalCoinsMined</th>\n",
       "      <th>TotalCoinSupply</th>\n",
       "    </tr>\n",
       "  </thead>\n",
       "  <tbody>\n",
       "    <tr>\n",
       "      <th>0</th>\n",
       "      <td>0</td>\n",
       "      <td>Scrypt</td>\n",
       "      <td>True</td>\n",
       "      <td>PoW/PoS</td>\n",
       "      <td>4.199995e+01</td>\n",
       "      <td>42</td>\n",
       "    </tr>\n",
       "    <tr>\n",
       "      <th>1</th>\n",
       "      <td>1</td>\n",
       "      <td>Scrypt</td>\n",
       "      <td>True</td>\n",
       "      <td>PoW/PoS</td>\n",
       "      <td>1.055185e+09</td>\n",
       "      <td>532000000</td>\n",
       "    </tr>\n",
       "    <tr>\n",
       "      <th>2</th>\n",
       "      <td>3</td>\n",
       "      <td>X13</td>\n",
       "      <td>True</td>\n",
       "      <td>PoW/PoS</td>\n",
       "      <td>2.927942e+10</td>\n",
       "      <td>314159265359</td>\n",
       "    </tr>\n",
       "    <tr>\n",
       "      <th>3</th>\n",
       "      <td>4</td>\n",
       "      <td>SHA-256</td>\n",
       "      <td>True</td>\n",
       "      <td>PoW</td>\n",
       "      <td>1.792718e+07</td>\n",
       "      <td>21000000</td>\n",
       "    </tr>\n",
       "    <tr>\n",
       "      <th>4</th>\n",
       "      <td>5</td>\n",
       "      <td>Ethash</td>\n",
       "      <td>True</td>\n",
       "      <td>PoW</td>\n",
       "      <td>1.076842e+08</td>\n",
       "      <td>0</td>\n",
       "    </tr>\n",
       "  </tbody>\n",
       "</table>\n",
       "</div>"
      ],
      "text/plain": [
       "   index Algorithm  IsTrading ProofType  TotalCoinsMined TotalCoinSupply\n",
       "0      0    Scrypt       True   PoW/PoS     4.199995e+01              42\n",
       "1      1    Scrypt       True   PoW/PoS     1.055185e+09       532000000\n",
       "2      3       X13       True   PoW/PoS     2.927942e+10    314159265359\n",
       "3      4   SHA-256       True       PoW     1.792718e+07        21000000\n",
       "4      5    Ethash       True       PoW     1.076842e+08               0"
      ]
     },
     "execution_count": 9,
     "metadata": {},
     "output_type": "execute_result"
    }
   ],
   "source": [
    "crypto_names = df_sub.CoinName\n",
    "\n",
    "df_sub = df_sub.drop([\"Unnamed: 0\", 'CoinName'], axis=1)\n",
    "df_sub.head()"
   ]
  },
  {
   "cell_type": "code",
   "execution_count": null,
   "id": "e59db2de",
   "metadata": {},
   "outputs": [],
   "source": []
  },
  {
   "cell_type": "code",
   "execution_count": 25,
   "id": "c79eca03",
   "metadata": {},
   "outputs": [
    {
     "name": "stdout",
     "output_type": "stream",
     "text": [
      "<class 'pandas.core.frame.DataFrame'>\n",
      "RangeIndex: 532 entries, 0 to 531\n",
      "Data columns (total 6 columns):\n",
      " #   Column           Non-Null Count  Dtype  \n",
      "---  ------           --------------  -----  \n",
      " 0   index            532 non-null    int64  \n",
      " 1   Algorithm        532 non-null    object \n",
      " 2   IsTrading        532 non-null    int64  \n",
      " 3   ProofType        532 non-null    object \n",
      " 4   TotalCoinsMined  532 non-null    float64\n",
      " 5   TotalCoinSupply  532 non-null    float64\n",
      "dtypes: float64(2), int64(2), object(2)\n",
      "memory usage: 25.1+ KB\n"
     ]
    }
   ],
   "source": [
    "df_sub[\"TotalCoinSupply\"] = df_sub.TotalCoinSupply.astype(float)\n",
    "#df_sub[\"IsTrading\"] = df_sub.IsTrading.astype(int)\n",
    "\n",
    "df_sub.info()"
   ]
  },
  {
   "cell_type": "code",
   "execution_count": 26,
   "id": "75e794af",
   "metadata": {},
   "outputs": [
    {
     "name": "stdout",
     "output_type": "stream",
     "text": [
      "11\n"
     ]
    },
    {
     "data": {
      "text/plain": [
       "Scrypt         182\n",
       "Other          131\n",
       "X11             73\n",
       "SHA-256         48\n",
       "CryptoNight     19\n",
       "X13             17\n",
       "PoS             17\n",
       "Quark           13\n",
       "Equihash        12\n",
       "NeoScrypt       10\n",
       "NIST5           10\n",
       "Name: Algorithm, dtype: int64"
      ]
     },
     "execution_count": 26,
     "metadata": {},
     "output_type": "execute_result"
    }
   ],
   "source": [
    "print(df_sub.Algorithm.nunique())\n",
    "df_sub.Algorithm.value_counts()"
   ]
  },
  {
   "cell_type": "code",
   "execution_count": null,
   "id": "ce3a7b84",
   "metadata": {},
   "outputs": [],
   "source": []
  },
  {
   "cell_type": "code",
   "execution_count": 27,
   "id": "f1ce3c92",
   "metadata": {},
   "outputs": [
    {
     "data": {
      "image/png": "[encoded data removed]",
      "text/plain": [
       "<Figure size 432x288 with 1 Axes>"
      ]
     },
     "metadata": {
      "needs_background": "light"
     },
     "output_type": "display_data"
    }
   ],
   "source": [
    "df_sub.Algorithm.value_counts().plot(kind=\"bar\")\n",
    "plt.show()"
   ]
  },
  {
   "cell_type": "code",
   "execution_count": 28,
   "id": "68bc452c",
   "metadata": {},
   "outputs": [
    {
     "data": {
      "text/plain": [
       "[]"
      ]
     },
     "execution_count": 28,
     "metadata": {},
     "output_type": "execute_result"
    }
   ],
   "source": [
    "algs = df_sub.Algorithm.value_counts()\n",
    "algs_replace = list(algs[algs < 10].index)\n",
    "algs_replace[0:10]"
   ]
  },
  {
   "cell_type": "code",
   "execution_count": 29,
   "id": "03202ec9",
   "metadata": {},
   "outputs": [
    {
     "data": {
      "text/plain": [
       "Scrypt         182\n",
       "Other          131\n",
       "X11             73\n",
       "SHA-256         48\n",
       "CryptoNight     19\n",
       "X13             17\n",
       "PoS             17\n",
       "Quark           13\n",
       "Equihash        12\n",
       "NeoScrypt       10\n",
       "NIST5           10\n",
       "Name: Algorithm, dtype: int64"
      ]
     },
     "execution_count": 29,
     "metadata": {},
     "output_type": "execute_result"
    }
   ],
   "source": [
    "mask = df_sub.Algorithm.isin(algs_replace)\n",
    "df_sub.loc[mask, \"Algorithm\"] = \"Other\"\n",
    "\n",
    "df_sub.Algorithm.value_counts()"
   ]
  },
  {
   "cell_type": "code",
   "execution_count": null,
   "id": "ae99ddbc",
   "metadata": {},
   "outputs": [],
   "source": []
  },
  {
   "cell_type": "code",
   "execution_count": null,
   "id": "94fecaf0",
   "metadata": {},
   "outputs": [],
   "source": []
  },
  {
   "cell_type": "code",
   "execution_count": null,
   "id": "cdc25137",
   "metadata": {},
   "outputs": [],
   "source": []
  },
  {
   "cell_type": "code",
   "execution_count": 30,
   "id": "14869369",
   "metadata": {},
   "outputs": [
    {
     "data": {
      "image/png": "[encoded data removed]",
      "text/plain": [
       "<Figure size 432x288 with 1 Axes>"
      ]
     },
     "metadata": {
      "needs_background": "light"
     },
     "output_type": "display_data"
    }
   ],
   "source": [
    "df_sub.Algorithm.value_counts().plot(kind=\"bar\")\n",
    "plt.show()"
   ]
  },
  {
   "cell_type": "code",
   "execution_count": 31,
   "id": "a70e5377",
   "metadata": {},
   "outputs": [
    {
     "name": "stdout",
     "output_type": "stream",
     "text": [
      "4\n"
     ]
    },
    {
     "data": {
      "text/plain": [
       "PoW        238\n",
       "PoW/PoS    179\n",
       "PoS         87\n",
       "Other       28\n",
       "Name: ProofType, dtype: int64"
      ]
     },
     "execution_count": 31,
     "metadata": {},
     "output_type": "execute_result"
    }
   ],
   "source": [
    "print(df_sub.ProofType.nunique())\n",
    "df_sub.ProofType.value_counts()"
   ]
  },
  {
   "cell_type": "code",
   "execution_count": 32,
   "id": "40b17d43",
   "metadata": {},
   "outputs": [],
   "source": [
    "df_sub.loc[df_sub.ProofType == 'Pos', \"ProofType\"] = \"PoS\"\n",
    "df_sub.loc[df_sub.ProofType == 'PoW and PoS', \"ProofType\"] = \"PoW/PoS\"\n",
    "df_sub.loc[df_sub.ProofType == 'PoS/PoW', \"ProofType\"] = \"PoW/PoS\"\n",
    "df_sub.loc[df_sub.ProofType == 'PoW/PoS', \"ProofType\"] = \"PoW/PoS\"\n",
    "df_sub.loc[df_sub.ProofType == 'PoW/PoW', \"ProofType\"] = \"PoW\""
   ]
  },
  {
   "cell_type": "code",
   "execution_count": 33,
   "id": "2255d7eb",
   "metadata": {},
   "outputs": [
    {
     "data": {
      "text/plain": [
       "['Other']"
      ]
     },
     "execution_count": 33,
     "metadata": {},
     "output_type": "execute_result"
    }
   ],
   "source": [
    "pts = df_sub.ProofType.value_counts()\n",
    "pts_replace = list(pts[pts < 50].index)\n",
    "pts_replace[0:10]"
   ]
  },
  {
   "cell_type": "code",
   "execution_count": 34,
   "id": "bdc9784b",
   "metadata": {},
   "outputs": [
    {
     "data": {
      "text/plain": [
       "PoW        238\n",
       "PoW/PoS    179\n",
       "PoS         87\n",
       "Other       28\n",
       "Name: ProofType, dtype: int64"
      ]
     },
     "execution_count": 34,
     "metadata": {},
     "output_type": "execute_result"
    }
   ],
   "source": [
    "mask = df_sub.ProofType.isin(pts_replace)\n",
    "df_sub.loc[mask, \"ProofType\"] = \"Other\"\n",
    "\n",
    "df_sub.ProofType.value_counts()"
   ]
  },
  {
   "cell_type": "code",
   "execution_count": 35,
   "id": "380d0092",
   "metadata": {},
   "outputs": [
    {
     "data": {
      "text/html": [
       "<div>\n",
       "<style scoped>\n",
       "    .dataframe tbody tr th:only-of-type {\n",
       "        vertical-align: middle;\n",
       "    }\n",
       "\n",
       "    .dataframe tbody tr th {\n",
       "        vertical-align: top;\n",
       "    }\n",
       "\n",
       "    .dataframe thead th {\n",
       "        text-align: right;\n",
       "    }\n",
       "</style>\n",
       "<table border=\"1\" class=\"dataframe\">\n",
       "  <thead>\n",
       "    <tr style=\"text-align: right;\">\n",
       "      <th></th>\n",
       "      <th>index</th>\n",
       "      <th>Algorithm</th>\n",
       "      <th>IsTrading</th>\n",
       "      <th>ProofType</th>\n",
       "      <th>TotalCoinsMined</th>\n",
       "      <th>TotalCoinSupply</th>\n",
       "    </tr>\n",
       "  </thead>\n",
       "  <tbody>\n",
       "    <tr>\n",
       "      <th>0</th>\n",
       "      <td>0</td>\n",
       "      <td>Scrypt</td>\n",
       "      <td>1</td>\n",
       "      <td>PoW/PoS</td>\n",
       "      <td>4.199995e+01</td>\n",
       "      <td>4.200000e+01</td>\n",
       "    </tr>\n",
       "    <tr>\n",
       "      <th>1</th>\n",
       "      <td>1</td>\n",
       "      <td>Scrypt</td>\n",
       "      <td>1</td>\n",
       "      <td>PoW/PoS</td>\n",
       "      <td>1.055185e+09</td>\n",
       "      <td>5.320000e+08</td>\n",
       "    </tr>\n",
       "    <tr>\n",
       "      <th>2</th>\n",
       "      <td>3</td>\n",
       "      <td>X13</td>\n",
       "      <td>1</td>\n",
       "      <td>PoW/PoS</td>\n",
       "      <td>2.927942e+10</td>\n",
       "      <td>3.141593e+11</td>\n",
       "    </tr>\n",
       "    <tr>\n",
       "      <th>3</th>\n",
       "      <td>4</td>\n",
       "      <td>SHA-256</td>\n",
       "      <td>1</td>\n",
       "      <td>PoW</td>\n",
       "      <td>1.792718e+07</td>\n",
       "      <td>2.100000e+07</td>\n",
       "    </tr>\n",
       "    <tr>\n",
       "      <th>4</th>\n",
       "      <td>5</td>\n",
       "      <td>Other</td>\n",
       "      <td>1</td>\n",
       "      <td>PoW</td>\n",
       "      <td>1.076842e+08</td>\n",
       "      <td>0.000000e+00</td>\n",
       "    </tr>\n",
       "  </tbody>\n",
       "</table>\n",
       "</div>"
      ],
      "text/plain": [
       "   index Algorithm  IsTrading ProofType  TotalCoinsMined  TotalCoinSupply\n",
       "0      0    Scrypt          1   PoW/PoS     4.199995e+01     4.200000e+01\n",
       "1      1    Scrypt          1   PoW/PoS     1.055185e+09     5.320000e+08\n",
       "2      3       X13          1   PoW/PoS     2.927942e+10     3.141593e+11\n",
       "3      4   SHA-256          1       PoW     1.792718e+07     2.100000e+07\n",
       "4      5     Other          1       PoW     1.076842e+08     0.000000e+00"
      ]
     },
     "execution_count": 35,
     "metadata": {},
     "output_type": "execute_result"
    }
   ],
   "source": [
    "df_sub.head()"
   ]
  },
  {
   "cell_type": "code",
   "execution_count": null,
   "id": "c481eaf6",
   "metadata": {},
   "outputs": [],
   "source": []
  },
  {
   "cell_type": "code",
   "execution_count": 40,
   "id": "4f068b20",
   "metadata": {},
   "outputs": [
    {
     "data": {
      "text/html": [
       "<div>\n",
       "<style scoped>\n",
       "    .dataframe tbody tr th:only-of-type {\n",
       "        vertical-align: middle;\n",
       "    }\n",
       "\n",
       "    .dataframe tbody tr th {\n",
       "        vertical-align: top;\n",
       "    }\n",
       "\n",
       "    .dataframe thead th {\n",
       "        text-align: right;\n",
       "    }\n",
       "</style>\n",
       "<table border=\"1\" class=\"dataframe\">\n",
       "  <thead>\n",
       "    <tr style=\"text-align: right;\">\n",
       "      <th></th>\n",
       "      <th>Algorithm_CryptoNight</th>\n",
       "      <th>Algorithm_Equihash</th>\n",
       "      <th>Algorithm_NIST5</th>\n",
       "      <th>Algorithm_NeoScrypt</th>\n",
       "      <th>Algorithm_Other</th>\n",
       "      <th>Algorithm_PoS</th>\n",
       "      <th>Algorithm_Quark</th>\n",
       "      <th>Algorithm_SHA-256</th>\n",
       "      <th>Algorithm_Scrypt</th>\n",
       "      <th>Algorithm_X11</th>\n",
       "      <th>Algorithm_X13</th>\n",
       "      <th>ProofType_Other</th>\n",
       "      <th>ProofType_PoS</th>\n",
       "      <th>ProofType_PoW</th>\n",
       "      <th>ProofType_PoW/PoS</th>\n",
       "    </tr>\n",
       "  </thead>\n",
       "  <tbody>\n",
       "    <tr>\n",
       "      <th>0</th>\n",
       "      <td>0</td>\n",
       "      <td>0</td>\n",
       "      <td>0</td>\n",
       "      <td>0</td>\n",
       "      <td>0</td>\n",
       "      <td>0</td>\n",
       "      <td>0</td>\n",
       "      <td>0</td>\n",
       "      <td>1</td>\n",
       "      <td>0</td>\n",
       "      <td>0</td>\n",
       "      <td>0</td>\n",
       "      <td>0</td>\n",
       "      <td>0</td>\n",
       "      <td>1</td>\n",
       "    </tr>\n",
       "    <tr>\n",
       "      <th>1</th>\n",
       "      <td>0</td>\n",
       "      <td>0</td>\n",
       "      <td>0</td>\n",
       "      <td>0</td>\n",
       "      <td>0</td>\n",
       "      <td>0</td>\n",
       "      <td>0</td>\n",
       "      <td>0</td>\n",
       "      <td>1</td>\n",
       "      <td>0</td>\n",
       "      <td>0</td>\n",
       "      <td>0</td>\n",
       "      <td>0</td>\n",
       "      <td>0</td>\n",
       "      <td>1</td>\n",
       "    </tr>\n",
       "    <tr>\n",
       "      <th>2</th>\n",
       "      <td>0</td>\n",
       "      <td>0</td>\n",
       "      <td>0</td>\n",
       "      <td>0</td>\n",
       "      <td>0</td>\n",
       "      <td>0</td>\n",
       "      <td>0</td>\n",
       "      <td>0</td>\n",
       "      <td>0</td>\n",
       "      <td>0</td>\n",
       "      <td>1</td>\n",
       "      <td>0</td>\n",
       "      <td>0</td>\n",
       "      <td>0</td>\n",
       "      <td>1</td>\n",
       "    </tr>\n",
       "    <tr>\n",
       "      <th>3</th>\n",
       "      <td>0</td>\n",
       "      <td>0</td>\n",
       "      <td>0</td>\n",
       "      <td>0</td>\n",
       "      <td>0</td>\n",
       "      <td>0</td>\n",
       "      <td>0</td>\n",
       "      <td>1</td>\n",
       "      <td>0</td>\n",
       "      <td>0</td>\n",
       "      <td>0</td>\n",
       "      <td>0</td>\n",
       "      <td>0</td>\n",
       "      <td>1</td>\n",
       "      <td>0</td>\n",
       "    </tr>\n",
       "    <tr>\n",
       "      <th>4</th>\n",
       "      <td>0</td>\n",
       "      <td>0</td>\n",
       "      <td>0</td>\n",
       "      <td>0</td>\n",
       "      <td>1</td>\n",
       "      <td>0</td>\n",
       "      <td>0</td>\n",
       "      <td>0</td>\n",
       "      <td>0</td>\n",
       "      <td>0</td>\n",
       "      <td>0</td>\n",
       "      <td>0</td>\n",
       "      <td>0</td>\n",
       "      <td>1</td>\n",
       "      <td>0</td>\n",
       "    </tr>\n",
       "  </tbody>\n",
       "</table>\n",
       "</div>"
      ],
      "text/plain": [
       "   Algorithm_CryptoNight  Algorithm_Equihash  Algorithm_NIST5  \\\n",
       "0                      0                   0                0   \n",
       "1                      0                   0                0   \n",
       "2                      0                   0                0   \n",
       "3                      0                   0                0   \n",
       "4                      0                   0                0   \n",
       "\n",
       "   Algorithm_NeoScrypt  Algorithm_Other  Algorithm_PoS  Algorithm_Quark  \\\n",
       "0                    0                0              0                0   \n",
       "1                    0                0              0                0   \n",
       "2                    0                0              0                0   \n",
       "3                    0                0              0                0   \n",
       "4                    0                1              0                0   \n",
       "\n",
       "   Algorithm_SHA-256  Algorithm_Scrypt  Algorithm_X11  Algorithm_X13  \\\n",
       "0                  0                 1              0              0   \n",
       "1                  0                 1              0              0   \n",
       "2                  0                 0              0              1   \n",
       "3                  1                 0              0              0   \n",
       "4                  0                 0              0              0   \n",
       "\n",
       "   ProofType_Other  ProofType_PoS  ProofType_PoW  ProofType_PoW/PoS  \n",
       "0                0              0              0                  1  \n",
       "1                0              0              0                  1  \n",
       "2                0              0              0                  1  \n",
       "3                0              0              1                  0  \n",
       "4                0              0              1                  0  "
      ]
     },
     "execution_count": 40,
     "metadata": {},
     "output_type": "execute_result"
    }
   ],
   "source": [
    "oh_cols = [\"Algorithm\", \"ProofType\"]\n",
    "df_oh = df_sub.loc[:, oh_cols]\n",
    "\n",
    "df_oh = pd.get_dummies(df_oh)\n",
    "df_oh.head()"
   ]
  },
  {
   "cell_type": "code",
   "execution_count": null,
   "id": "5fe209d7",
   "metadata": {},
   "outputs": [],
   "source": []
  },
  {
   "cell_type": "code",
   "execution_count": 41,
   "id": "6bd7d386",
   "metadata": {},
   "outputs": [
    {
     "data": {
      "text/html": [
       "<div>\n",
       "<style scoped>\n",
       "    .dataframe tbody tr th:only-of-type {\n",
       "        vertical-align: middle;\n",
       "    }\n",
       "\n",
       "    .dataframe tbody tr th {\n",
       "        vertical-align: top;\n",
       "    }\n",
       "\n",
       "    .dataframe thead th {\n",
       "        text-align: right;\n",
       "    }\n",
       "</style>\n",
       "<table border=\"1\" class=\"dataframe\">\n",
       "  <thead>\n",
       "    <tr style=\"text-align: right;\">\n",
       "      <th></th>\n",
       "      <th>TotalCoinsMined</th>\n",
       "      <th>TotalCoinSupply</th>\n",
       "    </tr>\n",
       "  </thead>\n",
       "  <tbody>\n",
       "    <tr>\n",
       "      <th>0</th>\n",
       "      <td>-0.117108</td>\n",
       "      <td>-0.152870</td>\n",
       "    </tr>\n",
       "    <tr>\n",
       "      <th>1</th>\n",
       "      <td>-0.093970</td>\n",
       "      <td>-0.145009</td>\n",
       "    </tr>\n",
       "    <tr>\n",
       "      <th>2</th>\n",
       "      <td>0.524946</td>\n",
       "      <td>4.489424</td>\n",
       "    </tr>\n",
       "    <tr>\n",
       "      <th>3</th>\n",
       "      <td>-0.116715</td>\n",
       "      <td>-0.152560</td>\n",
       "    </tr>\n",
       "    <tr>\n",
       "      <th>4</th>\n",
       "      <td>-0.114747</td>\n",
       "      <td>-0.152870</td>\n",
       "    </tr>\n",
       "  </tbody>\n",
       "</table>\n",
       "</div>"
      ],
      "text/plain": [
       "   TotalCoinsMined  TotalCoinSupply\n",
       "0        -0.117108        -0.152870\n",
       "1        -0.093970        -0.145009\n",
       "2         0.524946         4.489424\n",
       "3        -0.116715        -0.152560\n",
       "4        -0.114747        -0.152870"
      ]
     },
     "execution_count": 41,
     "metadata": {},
     "output_type": "execute_result"
    }
   ],
   "source": [
    "num_cols = [\"TotalCoinsMined\", \"TotalCoinSupply\"]\n",
    "df_num = df_sub.loc[:,num_cols] \n",
    "\n",
    "scaler = StandardScaler()\n",
    "scaler.fit(df_num)\n",
    "\n",
    "\n",
    "df_num = pd.DataFrame(scaler.transform(df_num), columns=num_cols)\n",
    "df_num.head()"
   ]
  },
  {
   "cell_type": "code",
   "execution_count": 42,
   "id": "8e8e6cf1",
   "metadata": {},
   "outputs": [
    {
     "data": {
      "text/html": [
       "<div>\n",
       "<style scoped>\n",
       "    .dataframe tbody tr th:only-of-type {\n",
       "        vertical-align: middle;\n",
       "    }\n",
       "\n",
       "    .dataframe tbody tr th {\n",
       "        vertical-align: top;\n",
       "    }\n",
       "\n",
       "    .dataframe thead th {\n",
       "        text-align: right;\n",
       "    }\n",
       "</style>\n",
       "<table border=\"1\" class=\"dataframe\">\n",
       "  <thead>\n",
       "    <tr style=\"text-align: right;\">\n",
       "      <th></th>\n",
       "      <th>TotalCoinsMined</th>\n",
       "      <th>TotalCoinSupply</th>\n",
       "      <th>Algorithm_CryptoNight</th>\n",
       "      <th>Algorithm_Equihash</th>\n",
       "      <th>Algorithm_NIST5</th>\n",
       "      <th>Algorithm_NeoScrypt</th>\n",
       "      <th>Algorithm_Other</th>\n",
       "      <th>Algorithm_PoS</th>\n",
       "      <th>Algorithm_Quark</th>\n",
       "      <th>Algorithm_SHA-256</th>\n",
       "      <th>Algorithm_Scrypt</th>\n",
       "      <th>Algorithm_X11</th>\n",
       "      <th>Algorithm_X13</th>\n",
       "      <th>ProofType_Other</th>\n",
       "      <th>ProofType_PoS</th>\n",
       "      <th>ProofType_PoW</th>\n",
       "      <th>ProofType_PoW/PoS</th>\n",
       "    </tr>\n",
       "  </thead>\n",
       "  <tbody>\n",
       "    <tr>\n",
       "      <th>0</th>\n",
       "      <td>-0.117108</td>\n",
       "      <td>-0.152870</td>\n",
       "      <td>0</td>\n",
       "      <td>0</td>\n",
       "      <td>0</td>\n",
       "      <td>0</td>\n",
       "      <td>0</td>\n",
       "      <td>0</td>\n",
       "      <td>0</td>\n",
       "      <td>0</td>\n",
       "      <td>1</td>\n",
       "      <td>0</td>\n",
       "      <td>0</td>\n",
       "      <td>0</td>\n",
       "      <td>0</td>\n",
       "      <td>0</td>\n",
       "      <td>1</td>\n",
       "    </tr>\n",
       "    <tr>\n",
       "      <th>1</th>\n",
       "      <td>-0.093970</td>\n",
       "      <td>-0.145009</td>\n",
       "      <td>0</td>\n",
       "      <td>0</td>\n",
       "      <td>0</td>\n",
       "      <td>0</td>\n",
       "      <td>0</td>\n",
       "      <td>0</td>\n",
       "      <td>0</td>\n",
       "      <td>0</td>\n",
       "      <td>1</td>\n",
       "      <td>0</td>\n",
       "      <td>0</td>\n",
       "      <td>0</td>\n",
       "      <td>0</td>\n",
       "      <td>0</td>\n",
       "      <td>1</td>\n",
       "    </tr>\n",
       "    <tr>\n",
       "      <th>2</th>\n",
       "      <td>0.524946</td>\n",
       "      <td>4.489424</td>\n",
       "      <td>0</td>\n",
       "      <td>0</td>\n",
       "      <td>0</td>\n",
       "      <td>0</td>\n",
       "      <td>0</td>\n",
       "      <td>0</td>\n",
       "      <td>0</td>\n",
       "      <td>0</td>\n",
       "      <td>0</td>\n",
       "      <td>0</td>\n",
       "      <td>1</td>\n",
       "      <td>0</td>\n",
       "      <td>0</td>\n",
       "      <td>0</td>\n",
       "      <td>1</td>\n",
       "    </tr>\n",
       "    <tr>\n",
       "      <th>3</th>\n",
       "      <td>-0.116715</td>\n",
       "      <td>-0.152560</td>\n",
       "      <td>0</td>\n",
       "      <td>0</td>\n",
       "      <td>0</td>\n",
       "      <td>0</td>\n",
       "      <td>0</td>\n",
       "      <td>0</td>\n",
       "      <td>0</td>\n",
       "      <td>1</td>\n",
       "      <td>0</td>\n",
       "      <td>0</td>\n",
       "      <td>0</td>\n",
       "      <td>0</td>\n",
       "      <td>0</td>\n",
       "      <td>1</td>\n",
       "      <td>0</td>\n",
       "    </tr>\n",
       "    <tr>\n",
       "      <th>4</th>\n",
       "      <td>-0.114747</td>\n",
       "      <td>-0.152870</td>\n",
       "      <td>0</td>\n",
       "      <td>0</td>\n",
       "      <td>0</td>\n",
       "      <td>0</td>\n",
       "      <td>1</td>\n",
       "      <td>0</td>\n",
       "      <td>0</td>\n",
       "      <td>0</td>\n",
       "      <td>0</td>\n",
       "      <td>0</td>\n",
       "      <td>0</td>\n",
       "      <td>0</td>\n",
       "      <td>0</td>\n",
       "      <td>1</td>\n",
       "      <td>0</td>\n",
       "    </tr>\n",
       "  </tbody>\n",
       "</table>\n",
       "</div>"
      ],
      "text/plain": [
       "   TotalCoinsMined  TotalCoinSupply  Algorithm_CryptoNight  \\\n",
       "0        -0.117108        -0.152870                      0   \n",
       "1        -0.093970        -0.145009                      0   \n",
       "2         0.524946         4.489424                      0   \n",
       "3        -0.116715        -0.152560                      0   \n",
       "4        -0.114747        -0.152870                      0   \n",
       "\n",
       "   Algorithm_Equihash  Algorithm_NIST5  Algorithm_NeoScrypt  Algorithm_Other  \\\n",
       "0                   0                0                    0                0   \n",
       "1                   0                0                    0                0   \n",
       "2                   0                0                    0                0   \n",
       "3                   0                0                    0                0   \n",
       "4                   0                0                    0                1   \n",
       "\n",
       "   Algorithm_PoS  Algorithm_Quark  Algorithm_SHA-256  Algorithm_Scrypt  \\\n",
       "0              0                0                  0                 1   \n",
       "1              0                0                  0                 1   \n",
       "2              0                0                  0                 0   \n",
       "3              0                0                  1                 0   \n",
       "4              0                0                  0                 0   \n",
       "\n",
       "   Algorithm_X11  Algorithm_X13  ProofType_Other  ProofType_PoS  \\\n",
       "0              0              0                0              0   \n",
       "1              0              0                0              0   \n",
       "2              0              1                0              0   \n",
       "3              0              0                0              0   \n",
       "4              0              0                0              0   \n",
       "\n",
       "   ProofType_PoW  ProofType_PoW/PoS  \n",
       "0              0                  1  \n",
       "1              0                  1  \n",
       "2              0                  1  \n",
       "3              1                  0  \n",
       "4              1                  0  "
      ]
     },
     "execution_count": 42,
     "metadata": {},
     "output_type": "execute_result"
    }
   ],
   "source": [
    "df_train = pd.concat([df_num, df_oh], axis=1)\n",
    "df_train.head()"
   ]
  },
  {
   "cell_type": "code",
   "execution_count": 43,
   "id": "ec930cf3",
   "metadata": {},
   "outputs": [
    {
     "name": "stdout",
     "output_type": "stream",
     "text": [
      "(532, 2)\n"
     ]
    },
    {
     "data": {
      "text/html": [
       "<div>\n",
       "<style scoped>\n",
       "    .dataframe tbody tr th:only-of-type {\n",
       "        vertical-align: middle;\n",
       "    }\n",
       "\n",
       "    .dataframe tbody tr th {\n",
       "        vertical-align: top;\n",
       "    }\n",
       "\n",
       "    .dataframe thead th {\n",
       "        text-align: right;\n",
       "    }\n",
       "</style>\n",
       "<table border=\"1\" class=\"dataframe\">\n",
       "  <thead>\n",
       "    <tr style=\"text-align: right;\">\n",
       "      <th></th>\n",
       "      <th>Feature1</th>\n",
       "      <th>Feature2</th>\n",
       "    </tr>\n",
       "  </thead>\n",
       "  <tbody>\n",
       "    <tr>\n",
       "      <th>0</th>\n",
       "      <td>-18.231478</td>\n",
       "      <td>-10.561707</td>\n",
       "    </tr>\n",
       "    <tr>\n",
       "      <th>1</th>\n",
       "      <td>-17.446611</td>\n",
       "      <td>-16.852461</td>\n",
       "    </tr>\n",
       "    <tr>\n",
       "      <th>2</th>\n",
       "      <td>6.736205</td>\n",
       "      <td>-7.164013</td>\n",
       "    </tr>\n",
       "    <tr>\n",
       "      <th>3</th>\n",
       "      <td>12.267736</td>\n",
       "      <td>0.248191</td>\n",
       "    </tr>\n",
       "    <tr>\n",
       "      <th>4</th>\n",
       "      <td>18.208412</td>\n",
       "      <td>11.220787</td>\n",
       "    </tr>\n",
       "  </tbody>\n",
       "</table>\n",
       "</div>"
      ],
      "text/plain": [
       "    Feature1   Feature2\n",
       "0 -18.231478 -10.561707\n",
       "1 -17.446611 -16.852461\n",
       "2   6.736205  -7.164013\n",
       "3  12.267736   0.248191\n",
       "4  18.208412  11.220787"
      ]
     },
     "execution_count": 43,
     "metadata": {},
     "output_type": "execute_result"
    }
   ],
   "source": [
    " # TSNE\n",
    "tsne = TSNE(random_state=42)\n",
    "tsne_features = tsne.fit_transform(df_train)\n",
    "print(tsne_features.shape)\n",
    "\n",
    "tsne_df = pd.DataFrame(tsne_features, columns=[\"Feature1\", \"Feature2\"])\n",
    "tsne_df.head()"
   ]
  },
  {
   "cell_type": "code",
   "execution_count": 44,
   "id": "bd2fdabc",
   "metadata": {},
   "outputs": [
    {
     "data": {
      "image/png": "[encoded data removed]",
      "text/plain": [
       "<Figure size 720x432 with 1 Axes>"
      ]
     },
     "metadata": {
      "needs_background": "light"
     },
     "output_type": "display_data"
    }
   ],
   "source": [
    "plt.figure(figsize=(10, 6))\n",
    "plt.scatter(tsne_df[\"Feature1\"], tsne_df[\"Feature2\"])\n",
    "plt.show()"
   ]
  },
  {
   "cell_type": "code",
   "execution_count": null,
   "id": "f552e76c",
   "metadata": {},
   "outputs": [],
   "source": [
    "#PCA"
   ]
  },
  {
   "cell_type": "code",
   "execution_count": 48,
   "id": "6fb71348",
   "metadata": {},
   "outputs": [
    {
     "data": {
      "image/png": "[encoded data removed]",
      "text/plain": [
       "<Figure size 432x288 with 2 Axes>"
      ]
     },
     "metadata": {
      "needs_background": "light"
     },
     "output_type": "display_data"
    }
   ],
   "source": [
    "corrs = df_train.corr()\n",
    "\n",
    "sns.heatmap(corrs)\n",
    "plt.show()"
   ]
  },
  {
   "cell_type": "code",
   "execution_count": 49,
   "id": "65cba8e9",
   "metadata": {},
   "outputs": [
    {
     "data": {
      "text/html": [
       "<div>\n",
       "<style scoped>\n",
       "    .dataframe tbody tr th:only-of-type {\n",
       "        vertical-align: middle;\n",
       "    }\n",
       "\n",
       "    .dataframe tbody tr th {\n",
       "        vertical-align: top;\n",
       "    }\n",
       "\n",
       "    .dataframe thead th {\n",
       "        text-align: right;\n",
       "    }\n",
       "</style>\n",
       "<table border=\"1\" class=\"dataframe\">\n",
       "  <thead>\n",
       "    <tr style=\"text-align: right;\">\n",
       "      <th></th>\n",
       "      <th>TotalCoinsMined</th>\n",
       "      <th>TotalCoinSupply</th>\n",
       "      <th>Algorithm_CryptoNight</th>\n",
       "      <th>Algorithm_Equihash</th>\n",
       "      <th>Algorithm_NIST5</th>\n",
       "      <th>Algorithm_NeoScrypt</th>\n",
       "      <th>Algorithm_Other</th>\n",
       "      <th>Algorithm_PoS</th>\n",
       "      <th>Algorithm_Quark</th>\n",
       "      <th>Algorithm_SHA-256</th>\n",
       "      <th>Algorithm_Scrypt</th>\n",
       "      <th>Algorithm_X11</th>\n",
       "      <th>Algorithm_X13</th>\n",
       "      <th>ProofType_Other</th>\n",
       "      <th>ProofType_PoS</th>\n",
       "      <th>ProofType_PoW</th>\n",
       "      <th>ProofType_PoW/PoS</th>\n",
       "    </tr>\n",
       "  </thead>\n",
       "  <tbody>\n",
       "    <tr>\n",
       "      <th>TotalCoinsMined</th>\n",
       "      <td>1.000000</td>\n",
       "      <td>0.702301</td>\n",
       "      <td>0.046358</td>\n",
       "      <td>-0.015083</td>\n",
       "      <td>-0.004300</td>\n",
       "      <td>-0.014830</td>\n",
       "      <td>0.064477</td>\n",
       "      <td>-0.020827</td>\n",
       "      <td>-0.018368</td>\n",
       "      <td>-0.025781</td>\n",
       "      <td>-0.009377</td>\n",
       "      <td>-0.042141</td>\n",
       "      <td>0.007338</td>\n",
       "      <td>0.190130</td>\n",
       "      <td>-0.033243</td>\n",
       "      <td>-0.017846</td>\n",
       "      <td>-0.045051</td>\n",
       "    </tr>\n",
       "    <tr>\n",
       "      <th>TotalCoinSupply</th>\n",
       "      <td>0.702301</td>\n",
       "      <td>1.000000</td>\n",
       "      <td>0.191816</td>\n",
       "      <td>-0.017729</td>\n",
       "      <td>-0.014702</td>\n",
       "      <td>-0.020049</td>\n",
       "      <td>0.025065</td>\n",
       "      <td>-0.027379</td>\n",
       "      <td>-0.023895</td>\n",
       "      <td>-0.034459</td>\n",
       "      <td>-0.015754</td>\n",
       "      <td>-0.049680</td>\n",
       "      <td>0.022187</td>\n",
       "      <td>0.116568</td>\n",
       "      <td>-0.039411</td>\n",
       "      <td>0.032810</td>\n",
       "      <td>-0.058766</td>\n",
       "    </tr>\n",
       "    <tr>\n",
       "      <th>Algorithm_CryptoNight</th>\n",
       "      <td>0.046358</td>\n",
       "      <td>0.191816</td>\n",
       "      <td>1.000000</td>\n",
       "      <td>-0.029235</td>\n",
       "      <td>-0.026637</td>\n",
       "      <td>-0.026637</td>\n",
       "      <td>-0.109997</td>\n",
       "      <td>-0.034965</td>\n",
       "      <td>-0.030458</td>\n",
       "      <td>-0.060606</td>\n",
       "      <td>-0.138778</td>\n",
       "      <td>-0.076749</td>\n",
       "      <td>-0.034965</td>\n",
       "      <td>-0.045361</td>\n",
       "      <td>-0.085094</td>\n",
       "      <td>0.213896</td>\n",
       "      <td>-0.137043</td>\n",
       "    </tr>\n",
       "    <tr>\n",
       "      <th>Algorithm_Equihash</th>\n",
       "      <td>-0.015083</td>\n",
       "      <td>-0.017729</td>\n",
       "      <td>-0.029235</td>\n",
       "      <td>1.000000</td>\n",
       "      <td>-0.021026</td>\n",
       "      <td>-0.021026</td>\n",
       "      <td>-0.086827</td>\n",
       "      <td>-0.027600</td>\n",
       "      <td>-0.024042</td>\n",
       "      <td>-0.047840</td>\n",
       "      <td>-0.109545</td>\n",
       "      <td>-0.060582</td>\n",
       "      <td>-0.027600</td>\n",
       "      <td>0.020887</td>\n",
       "      <td>-0.032941</td>\n",
       "      <td>0.117920</td>\n",
       "      <td>-0.108175</td>\n",
       "    </tr>\n",
       "    <tr>\n",
       "      <th>Algorithm_NIST5</th>\n",
       "      <td>-0.004300</td>\n",
       "      <td>-0.014702</td>\n",
       "      <td>-0.026637</td>\n",
       "      <td>-0.021026</td>\n",
       "      <td>1.000000</td>\n",
       "      <td>-0.019157</td>\n",
       "      <td>-0.079109</td>\n",
       "      <td>-0.025147</td>\n",
       "      <td>-0.021905</td>\n",
       "      <td>-0.043588</td>\n",
       "      <td>-0.099808</td>\n",
       "      <td>-0.055198</td>\n",
       "      <td>-0.025147</td>\n",
       "      <td>-0.032623</td>\n",
       "      <td>-0.023776</td>\n",
       "      <td>-0.068859</td>\n",
       "      <td>0.106490</td>\n",
       "    </tr>\n",
       "    <tr>\n",
       "      <th>Algorithm_NeoScrypt</th>\n",
       "      <td>-0.014830</td>\n",
       "      <td>-0.020049</td>\n",
       "      <td>-0.026637</td>\n",
       "      <td>-0.021026</td>\n",
       "      <td>-0.019157</td>\n",
       "      <td>1.000000</td>\n",
       "      <td>-0.079109</td>\n",
       "      <td>-0.025147</td>\n",
       "      <td>-0.021905</td>\n",
       "      <td>-0.043588</td>\n",
       "      <td>-0.099808</td>\n",
       "      <td>-0.055198</td>\n",
       "      <td>-0.025147</td>\n",
       "      <td>-0.032623</td>\n",
       "      <td>-0.061199</td>\n",
       "      <td>0.070324</td>\n",
       "      <td>-0.010682</td>\n",
       "    </tr>\n",
       "    <tr>\n",
       "      <th>Algorithm_Other</th>\n",
       "      <td>0.064477</td>\n",
       "      <td>0.025065</td>\n",
       "      <td>-0.109997</td>\n",
       "      <td>-0.086827</td>\n",
       "      <td>-0.079109</td>\n",
       "      <td>-0.079109</td>\n",
       "      <td>1.000000</td>\n",
       "      <td>-0.103845</td>\n",
       "      <td>-0.090459</td>\n",
       "      <td>-0.179995</td>\n",
       "      <td>-0.412159</td>\n",
       "      <td>-0.227939</td>\n",
       "      <td>-0.103845</td>\n",
       "      <td>0.197450</td>\n",
       "      <td>-0.004989</td>\n",
       "      <td>0.073663</td>\n",
       "      <td>-0.166924</td>\n",
       "    </tr>\n",
       "    <tr>\n",
       "      <th>Algorithm_PoS</th>\n",
       "      <td>-0.020827</td>\n",
       "      <td>-0.027379</td>\n",
       "      <td>-0.034965</td>\n",
       "      <td>-0.027600</td>\n",
       "      <td>-0.025147</td>\n",
       "      <td>-0.025147</td>\n",
       "      <td>-0.103845</td>\n",
       "      <td>1.000000</td>\n",
       "      <td>-0.028755</td>\n",
       "      <td>-0.057216</td>\n",
       "      <td>-0.131015</td>\n",
       "      <td>-0.072456</td>\n",
       "      <td>-0.033010</td>\n",
       "      <td>0.005038</td>\n",
       "      <td>0.382008</td>\n",
       "      <td>-0.163469</td>\n",
       "      <td>-0.129378</td>\n",
       "    </tr>\n",
       "    <tr>\n",
       "      <th>Algorithm_Quark</th>\n",
       "      <td>-0.018368</td>\n",
       "      <td>-0.023895</td>\n",
       "      <td>-0.030458</td>\n",
       "      <td>-0.024042</td>\n",
       "      <td>-0.021905</td>\n",
       "      <td>-0.021905</td>\n",
       "      <td>-0.090459</td>\n",
       "      <td>-0.028755</td>\n",
       "      <td>1.000000</td>\n",
       "      <td>-0.049841</td>\n",
       "      <td>-0.114127</td>\n",
       "      <td>-0.063117</td>\n",
       "      <td>-0.028755</td>\n",
       "      <td>-0.037304</td>\n",
       "      <td>0.160438</td>\n",
       "      <td>-0.117913</td>\n",
       "      <td>0.016128</td>\n",
       "    </tr>\n",
       "    <tr>\n",
       "      <th>Algorithm_SHA-256</th>\n",
       "      <td>-0.025781</td>\n",
       "      <td>-0.034459</td>\n",
       "      <td>-0.060606</td>\n",
       "      <td>-0.047840</td>\n",
       "      <td>-0.043588</td>\n",
       "      <td>-0.043588</td>\n",
       "      <td>-0.179995</td>\n",
       "      <td>-0.057216</td>\n",
       "      <td>-0.049841</td>\n",
       "      <td>1.000000</td>\n",
       "      <td>-0.227091</td>\n",
       "      <td>-0.125589</td>\n",
       "      <td>-0.057216</td>\n",
       "      <td>-0.044845</td>\n",
       "      <td>-0.015071</td>\n",
       "      <td>0.046529</td>\n",
       "      <td>-0.015973</td>\n",
       "    </tr>\n",
       "    <tr>\n",
       "      <th>Algorithm_Scrypt</th>\n",
       "      <td>-0.009377</td>\n",
       "      <td>-0.015754</td>\n",
       "      <td>-0.138778</td>\n",
       "      <td>-0.109545</td>\n",
       "      <td>-0.099808</td>\n",
       "      <td>-0.099808</td>\n",
       "      <td>-0.412159</td>\n",
       "      <td>-0.131015</td>\n",
       "      <td>-0.114127</td>\n",
       "      <td>-0.227091</td>\n",
       "      <td>1.000000</td>\n",
       "      <td>-0.287579</td>\n",
       "      <td>-0.131015</td>\n",
       "      <td>-0.063504</td>\n",
       "      <td>-0.093878</td>\n",
       "      <td>-0.011324</td>\n",
       "      <td>0.115411</td>\n",
       "    </tr>\n",
       "    <tr>\n",
       "      <th>Algorithm_X11</th>\n",
       "      <td>-0.042141</td>\n",
       "      <td>-0.049680</td>\n",
       "      <td>-0.076749</td>\n",
       "      <td>-0.060582</td>\n",
       "      <td>-0.055198</td>\n",
       "      <td>-0.055198</td>\n",
       "      <td>-0.227939</td>\n",
       "      <td>-0.072456</td>\n",
       "      <td>-0.063117</td>\n",
       "      <td>-0.125589</td>\n",
       "      <td>-0.287579</td>\n",
       "      <td>1.000000</td>\n",
       "      <td>-0.072456</td>\n",
       "      <td>-0.045068</td>\n",
       "      <td>-0.043396</td>\n",
       "      <td>-0.073151</td>\n",
       "      <td>0.132245</td>\n",
       "    </tr>\n",
       "    <tr>\n",
       "      <th>Algorithm_X13</th>\n",
       "      <td>0.007338</td>\n",
       "      <td>0.022187</td>\n",
       "      <td>-0.034965</td>\n",
       "      <td>-0.027600</td>\n",
       "      <td>-0.025147</td>\n",
       "      <td>-0.025147</td>\n",
       "      <td>-0.103845</td>\n",
       "      <td>-0.033010</td>\n",
       "      <td>-0.028755</td>\n",
       "      <td>-0.057216</td>\n",
       "      <td>-0.131015</td>\n",
       "      <td>-0.072456</td>\n",
       "      <td>1.000000</td>\n",
       "      <td>-0.042824</td>\n",
       "      <td>0.035251</td>\n",
       "      <td>-0.141975</td>\n",
       "      <td>0.142048</td>\n",
       "    </tr>\n",
       "    <tr>\n",
       "      <th>ProofType_Other</th>\n",
       "      <td>0.190130</td>\n",
       "      <td>0.116568</td>\n",
       "      <td>-0.045361</td>\n",
       "      <td>0.020887</td>\n",
       "      <td>-0.032623</td>\n",
       "      <td>-0.032623</td>\n",
       "      <td>0.197450</td>\n",
       "      <td>0.005038</td>\n",
       "      <td>-0.037304</td>\n",
       "      <td>-0.044845</td>\n",
       "      <td>-0.063504</td>\n",
       "      <td>-0.045068</td>\n",
       "      <td>-0.042824</td>\n",
       "      <td>1.000000</td>\n",
       "      <td>-0.104218</td>\n",
       "      <td>-0.212070</td>\n",
       "      <td>-0.167843</td>\n",
       "    </tr>\n",
       "    <tr>\n",
       "      <th>ProofType_PoS</th>\n",
       "      <td>-0.033243</td>\n",
       "      <td>-0.039411</td>\n",
       "      <td>-0.085094</td>\n",
       "      <td>-0.032941</td>\n",
       "      <td>-0.023776</td>\n",
       "      <td>-0.061199</td>\n",
       "      <td>-0.004989</td>\n",
       "      <td>0.382008</td>\n",
       "      <td>0.160438</td>\n",
       "      <td>-0.015071</td>\n",
       "      <td>-0.093878</td>\n",
       "      <td>-0.043396</td>\n",
       "      <td>0.035251</td>\n",
       "      <td>-0.104218</td>\n",
       "      <td>1.000000</td>\n",
       "      <td>-0.397827</td>\n",
       "      <td>-0.314861</td>\n",
       "    </tr>\n",
       "    <tr>\n",
       "      <th>ProofType_PoW</th>\n",
       "      <td>-0.017846</td>\n",
       "      <td>0.032810</td>\n",
       "      <td>0.213896</td>\n",
       "      <td>0.117920</td>\n",
       "      <td>-0.068859</td>\n",
       "      <td>0.070324</td>\n",
       "      <td>0.073663</td>\n",
       "      <td>-0.163469</td>\n",
       "      <td>-0.117913</td>\n",
       "      <td>0.046529</td>\n",
       "      <td>-0.011324</td>\n",
       "      <td>-0.073151</td>\n",
       "      <td>-0.141975</td>\n",
       "      <td>-0.212070</td>\n",
       "      <td>-0.397827</td>\n",
       "      <td>1.000000</td>\n",
       "      <td>-0.640699</td>\n",
       "    </tr>\n",
       "    <tr>\n",
       "      <th>ProofType_PoW/PoS</th>\n",
       "      <td>-0.045051</td>\n",
       "      <td>-0.058766</td>\n",
       "      <td>-0.137043</td>\n",
       "      <td>-0.108175</td>\n",
       "      <td>0.106490</td>\n",
       "      <td>-0.010682</td>\n",
       "      <td>-0.166924</td>\n",
       "      <td>-0.129378</td>\n",
       "      <td>0.016128</td>\n",
       "      <td>-0.015973</td>\n",
       "      <td>0.115411</td>\n",
       "      <td>0.132245</td>\n",
       "      <td>0.142048</td>\n",
       "      <td>-0.167843</td>\n",
       "      <td>-0.314861</td>\n",
       "      <td>-0.640699</td>\n",
       "      <td>1.000000</td>\n",
       "    </tr>\n",
       "  </tbody>\n",
       "</table>\n",
       "</div>"
      ],
      "text/plain": [
       "                       TotalCoinsMined  TotalCoinSupply  \\\n",
       "TotalCoinsMined               1.000000         0.702301   \n",
       "TotalCoinSupply               0.702301         1.000000   \n",
       "Algorithm_CryptoNight         0.046358         0.191816   \n",
       "Algorithm_Equihash           -0.015083        -0.017729   \n",
       "Algorithm_NIST5              -0.004300        -0.014702   \n",
       "Algorithm_NeoScrypt          -0.014830        -0.020049   \n",
       "Algorithm_Other               0.064477         0.025065   \n",
       "Algorithm_PoS                -0.020827        -0.027379   \n",
       "Algorithm_Quark              -0.018368        -0.023895   \n",
       "Algorithm_SHA-256            -0.025781        -0.034459   \n",
       "Algorithm_Scrypt             -0.009377        -0.015754   \n",
       "Algorithm_X11                -0.042141        -0.049680   \n",
       "Algorithm_X13                 0.007338         0.022187   \n",
       "ProofType_Other               0.190130         0.116568   \n",
       "ProofType_PoS                -0.033243        -0.039411   \n",
       "ProofType_PoW                -0.017846         0.032810   \n",
       "ProofType_PoW/PoS            -0.045051        -0.058766   \n",
       "\n",
       "                       Algorithm_CryptoNight  Algorithm_Equihash  \\\n",
       "TotalCoinsMined                     0.046358           -0.015083   \n",
       "TotalCoinSupply                     0.191816           -0.017729   \n",
       "Algorithm_CryptoNight               1.000000           -0.029235   \n",
       "Algorithm_Equihash                 -0.029235            1.000000   \n",
       "Algorithm_NIST5                    -0.026637           -0.021026   \n",
       "Algorithm_NeoScrypt                -0.026637           -0.021026   \n",
       "Algorithm_Other                    -0.109997           -0.086827   \n",
       "Algorithm_PoS                      -0.034965           -0.027600   \n",
       "Algorithm_Quark                    -0.030458           -0.024042   \n",
       "Algorithm_SHA-256                  -0.060606           -0.047840   \n",
       "Algorithm_Scrypt                   -0.138778           -0.109545   \n",
       "Algorithm_X11                      -0.076749           -0.060582   \n",
       "Algorithm_X13                      -0.034965           -0.027600   \n",
       "ProofType_Other                    -0.045361            0.020887   \n",
       "ProofType_PoS                      -0.085094           -0.032941   \n",
       "ProofType_PoW                       0.213896            0.117920   \n",
       "ProofType_PoW/PoS                  -0.137043           -0.108175   \n",
       "\n",
       "                       Algorithm_NIST5  Algorithm_NeoScrypt  Algorithm_Other  \\\n",
       "TotalCoinsMined              -0.004300            -0.014830         0.064477   \n",
       "TotalCoinSupply              -0.014702            -0.020049         0.025065   \n",
       "Algorithm_CryptoNight        -0.026637            -0.026637        -0.109997   \n",
       "Algorithm_Equihash           -0.021026            -0.021026        -0.086827   \n",
       "Algorithm_NIST5               1.000000            -0.019157        -0.079109   \n",
       "Algorithm_NeoScrypt          -0.019157             1.000000        -0.079109   \n",
       "Algorithm_Other              -0.079109            -0.079109         1.000000   \n",
       "Algorithm_PoS                -0.025147            -0.025147        -0.103845   \n",
       "Algorithm_Quark              -0.021905            -0.021905        -0.090459   \n",
       "Algorithm_SHA-256            -0.043588            -0.043588        -0.179995   \n",
       "Algorithm_Scrypt             -0.099808            -0.099808        -0.412159   \n",
       "Algorithm_X11                -0.055198            -0.055198        -0.227939   \n",
       "Algorithm_X13                -0.025147            -0.025147        -0.103845   \n",
       "ProofType_Other              -0.032623            -0.032623         0.197450   \n",
       "ProofType_PoS                -0.023776            -0.061199        -0.004989   \n",
       "ProofType_PoW                -0.068859             0.070324         0.073663   \n",
       "ProofType_PoW/PoS             0.106490            -0.010682        -0.166924   \n",
       "\n",
       "                       Algorithm_PoS  Algorithm_Quark  Algorithm_SHA-256  \\\n",
       "TotalCoinsMined            -0.020827        -0.018368          -0.025781   \n",
       "TotalCoinSupply            -0.027379        -0.023895          -0.034459   \n",
       "Algorithm_CryptoNight      -0.034965        -0.030458          -0.060606   \n",
       "Algorithm_Equihash         -0.027600        -0.024042          -0.047840   \n",
       "Algorithm_NIST5            -0.025147        -0.021905          -0.043588   \n",
       "Algorithm_NeoScrypt        -0.025147        -0.021905          -0.043588   \n",
       "Algorithm_Other            -0.103845        -0.090459          -0.179995   \n",
       "Algorithm_PoS               1.000000        -0.028755          -0.057216   \n",
       "Algorithm_Quark            -0.028755         1.000000          -0.049841   \n",
       "Algorithm_SHA-256          -0.057216        -0.049841           1.000000   \n",
       "Algorithm_Scrypt           -0.131015        -0.114127          -0.227091   \n",
       "Algorithm_X11              -0.072456        -0.063117          -0.125589   \n",
       "Algorithm_X13              -0.033010        -0.028755          -0.057216   \n",
       "ProofType_Other             0.005038        -0.037304          -0.044845   \n",
       "ProofType_PoS               0.382008         0.160438          -0.015071   \n",
       "ProofType_PoW              -0.163469        -0.117913           0.046529   \n",
       "ProofType_PoW/PoS          -0.129378         0.016128          -0.015973   \n",
       "\n",
       "                       Algorithm_Scrypt  Algorithm_X11  Algorithm_X13  \\\n",
       "TotalCoinsMined               -0.009377      -0.042141       0.007338   \n",
       "TotalCoinSupply               -0.015754      -0.049680       0.022187   \n",
       "Algorithm_CryptoNight         -0.138778      -0.076749      -0.034965   \n",
       "Algorithm_Equihash            -0.109545      -0.060582      -0.027600   \n",
       "Algorithm_NIST5               -0.099808      -0.055198      -0.025147   \n",
       "Algorithm_NeoScrypt           -0.099808      -0.055198      -0.025147   \n",
       "Algorithm_Other               -0.412159      -0.227939      -0.103845   \n",
       "Algorithm_PoS                 -0.131015      -0.072456      -0.033010   \n",
       "Algorithm_Quark               -0.114127      -0.063117      -0.028755   \n",
       "Algorithm_SHA-256             -0.227091      -0.125589      -0.057216   \n",
       "Algorithm_Scrypt               1.000000      -0.287579      -0.131015   \n",
       "Algorithm_X11                 -0.287579       1.000000      -0.072456   \n",
       "Algorithm_X13                 -0.131015      -0.072456       1.000000   \n",
       "ProofType_Other               -0.063504      -0.045068      -0.042824   \n",
       "ProofType_PoS                 -0.093878      -0.043396       0.035251   \n",
       "ProofType_PoW                 -0.011324      -0.073151      -0.141975   \n",
       "ProofType_PoW/PoS              0.115411       0.132245       0.142048   \n",
       "\n",
       "                       ProofType_Other  ProofType_PoS  ProofType_PoW  \\\n",
       "TotalCoinsMined               0.190130      -0.033243      -0.017846   \n",
       "TotalCoinSupply               0.116568      -0.039411       0.032810   \n",
       "Algorithm_CryptoNight        -0.045361      -0.085094       0.213896   \n",
       "Algorithm_Equihash            0.020887      -0.032941       0.117920   \n",
       "Algorithm_NIST5              -0.032623      -0.023776      -0.068859   \n",
       "Algorithm_NeoScrypt          -0.032623      -0.061199       0.070324   \n",
       "Algorithm_Other               0.197450      -0.004989       0.073663   \n",
       "Algorithm_PoS                 0.005038       0.382008      -0.163469   \n",
       "Algorithm_Quark              -0.037304       0.160438      -0.117913   \n",
       "Algorithm_SHA-256            -0.044845      -0.015071       0.046529   \n",
       "Algorithm_Scrypt             -0.063504      -0.093878      -0.011324   \n",
       "Algorithm_X11                -0.045068      -0.043396      -0.073151   \n",
       "Algorithm_X13                -0.042824       0.035251      -0.141975   \n",
       "ProofType_Other               1.000000      -0.104218      -0.212070   \n",
       "ProofType_PoS                -0.104218       1.000000      -0.397827   \n",
       "ProofType_PoW                -0.212070      -0.397827       1.000000   \n",
       "ProofType_PoW/PoS            -0.167843      -0.314861      -0.640699   \n",
       "\n",
       "                       ProofType_PoW/PoS  \n",
       "TotalCoinsMined                -0.045051  \n",
       "TotalCoinSupply                -0.058766  \n",
       "Algorithm_CryptoNight          -0.137043  \n",
       "Algorithm_Equihash             -0.108175  \n",
       "Algorithm_NIST5                 0.106490  \n",
       "Algorithm_NeoScrypt            -0.010682  \n",
       "Algorithm_Other                -0.166924  \n",
       "Algorithm_PoS                  -0.129378  \n",
       "Algorithm_Quark                 0.016128  \n",
       "Algorithm_SHA-256              -0.015973  \n",
       "Algorithm_Scrypt                0.115411  \n",
       "Algorithm_X11                   0.132245  \n",
       "Algorithm_X13                   0.142048  \n",
       "ProofType_Other                -0.167843  \n",
       "ProofType_PoS                  -0.314861  \n",
       "ProofType_PoW                  -0.640699  \n",
       "ProofType_PoW/PoS               1.000000  "
      ]
     },
     "execution_count": 49,
     "metadata": {},
     "output_type": "execute_result"
    }
   ],
   "source": [
    "corrs"
   ]
  },
  {
   "cell_type": "code",
   "execution_count": 53,
   "id": "1862af4f",
   "metadata": {},
   "outputs": [
    {
     "name": "stdout",
     "output_type": "stream",
     "text": [
      "[0.495, 0.118, 0.09, 0.082, 0.059, 0.05, 0.031, 0.018, 0.015, 0.009, 0.008, 0.008, 0.006, 0.006, 0.005, 0.0, 0.0]\n"
     ]
    },
    {
     "data": {
      "image/png": "[encoded data removed]",
      "text/plain": [
       "<Figure size 432x288 with 1 Axes>"
      ]
     },
     "metadata": {
      "needs_background": "light"
     },
     "output_type": "display_data"
    }
   ],
   "source": [
    "#Initialize PCA Model\n",
    "pca = PCA(n_components=len(df_train.columns))\n",
    "pca.fit(df_train)\n",
    "\n",
    "print([round(x, 3) for x in pca.explained_variance_ratio_])\n",
    "plt.plot(range(1,len(df_train.columns)+1), pca.explained_variance_ratio_)\n",
    "plt.title(\"PCA Explained Variance\")\n",
    "plt.show()"
   ]
  },
  {
   "cell_type": "code",
   "execution_count": 54,
   "id": "25be0170",
   "metadata": {},
   "outputs": [
    {
     "data": {
      "text/plain": [
       "0.958"
      ]
     },
     "execution_count": 54,
     "metadata": {},
     "output_type": "execute_result"
    }
   ],
   "source": [
    "sum([0.495, 0.118, 0.09, 0.082, 0.059, 0.05, 0.031, 0.018, 0.015])"
   ]
  },
  {
   "cell_type": "code",
   "execution_count": 55,
   "id": "4f5ee0b7",
   "metadata": {},
   "outputs": [
    {
     "data": {
      "text/plain": [
       "17"
      ]
     },
     "execution_count": 55,
     "metadata": {},
     "output_type": "execute_result"
    }
   ],
   "source": [
    "len(df_train.columns)"
   ]
  },
  {
   "cell_type": "code",
   "execution_count": 57,
   "id": "45c07cb7",
   "metadata": {},
   "outputs": [
    {
     "data": {
      "text/plain": [
       "0.995"
      ]
     },
     "execution_count": 57,
     "metadata": {},
     "output_type": "execute_result"
    }
   ],
   "source": [
    "sum([0.495, 0.118, 0.09, 0.082, 0.059, 0.05, 0.031, 0.018, 0.015, 0.009, 0.008, 0.008, 0.006, 0.006])"
   ]
  },
  {
   "cell_type": "code",
   "execution_count": 60,
   "id": "b198d097",
   "metadata": {},
   "outputs": [
    {
     "name": "stdout",
     "output_type": "stream",
     "text": [
      "[0.495, 0.118, 0.09, 0.082, 0.059, 0.05, 0.031, 0.018, 0.015, 0.009, 0.008, 0.008, 0.006, 0.006]\n"
     ]
    }
   ],
   "source": [
    "pca = PCA(n_components=0.99)\n",
    "pca.fit(df_train)\n",
    "\n",
    "print([round(x, 3) for x in pca.explained_variance_ratio_])"
   ]
  },
  {
   "cell_type": "code",
   "execution_count": null,
   "id": "82f58057",
   "metadata": {},
   "outputs": [],
   "source": []
  },
  {
   "cell_type": "code",
   "execution_count": null,
   "id": "dc8e7939",
   "metadata": {},
   "outputs": [],
   "source": []
  },
  {
   "cell_type": "code",
   "execution_count": null,
   "id": "56cc72a9",
   "metadata": {},
   "outputs": [],
   "source": []
  },
  {
   "cell_type": "code",
   "execution_count": null,
   "id": "5763f40f",
   "metadata": {},
   "outputs": [],
   "source": []
  }
 ],
 "metadata": {
  "kernelspec": {
   "display_name": "Python 3 (ipykernel)",
   "language": "python",
   "name": "python3"
  },
  "language_info": {
   "codemirror_mode": {
    "name": "ipython",
    "version": 3
   },
   "file_extension": ".py",
   "mimetype": "text/x-python",
   "name": "python",
   "nbconvert_exporter": "python",
   "pygments_lexer": "ipython3",
   "version": "3.9.7"
  }
 },
 "nbformat": 4,
 "nbformat_minor": 5
}
